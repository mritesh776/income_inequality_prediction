{
 "cells": [
  {
   "cell_type": "code",
   "execution_count": 1,
   "metadata": {},
   "outputs": [
    {
     "name": "stdout",
     "output_type": "stream",
     "text": [
      "6 5 3 8\n"
     ]
    }
   ],
   "source": [
    "import pandas as pd\n",
    "\n",
    "data = {'Category1': ['  Apple  ', 'Banana  ', '  Orange','p','q'],\n",
    "        'Category2': ['  Red  ', '  Yellow', '  Green  ', ' grey', 'hey ']}\n",
    "\n",
    "dfr = pd.DataFrame(data)\n",
    "\n",
    "leading_whitespace_count = 0\n",
    "trailing_whitespace_count = 0\n",
    "having_both = 0\n",
    "\n",
    "for column in dfr.columns:\n",
    "    leading_whitespace_count += (dfr[column].str.startswith(' ').sum())\n",
    "    trailing_whitespace_count += (dfr[column].str.endswith(' ').sum())\n",
    "\n",
    "    having_both += ((dfr[column].str.startswith(' ')) & (dfr[column].str.endswith(' '))).sum()\n",
    "\n",
    "print(leading_whitespace_count, trailing_whitespace_count, having_both, \n",
    "      leading_whitespace_count + trailing_whitespace_count - having_both)\n"
   ]
  },
  {
   "cell_type": "code",
   "execution_count": 2,
   "metadata": {},
   "outputs": [
    {
     "name": "stdout",
     "output_type": "stream",
     "text": [
      "There are 8 values in your dataframe that have a leading or trailing whitespaces or both.\n"
     ]
    }
   ],
   "source": [
    "def are_whitespaces_present(dataframe):\n",
    "    \n",
    "    leading_whitespace_count = 0\n",
    "    trailing_whitespace_count = 0\n",
    "    having_both = 0\n",
    "\n",
    "    for column in dataframe.columns:\n",
    "        if dataframe[column].dtype == 'object':\n",
    "            leading_whitespace_count += (dataframe[column].str.startswith(' ').sum())\n",
    "            trailing_whitespace_count += (dataframe[column].str.endswith(' ').sum())\n",
    "            having_both += ((dataframe[column].str.startswith(' ')) & (dataframe[column].str.endswith(' '))).sum()\n",
    "\n",
    "    result = leading_whitespace_count + trailing_whitespace_count - having_both\n",
    "    print(f\"There are {result} values in your dataframe that have a leading or trailing whitespaces or both.\")\n",
    "\n",
    "\n",
    "are_whitespaces_present(dfr)"
   ]
  },
  {
   "cell_type": "code",
   "execution_count": 3,
   "metadata": {},
   "outputs": [],
   "source": [
    "df = pd.read_csv('Dataset\\data.csv')"
   ]
  },
  {
   "cell_type": "code",
   "execution_count": 5,
   "metadata": {},
   "outputs": [
    {
     "name": "stdout",
     "output_type": "stream",
     "text": [
      "3058016 18467 18467 3058016\n"
     ]
    }
   ],
   "source": [
    "leading_whitespace_count = 0\n",
    "trailing_whitespace_count = 0\n",
    "having_both = 0\n",
    "\n",
    "\n",
    "for column in df.columns:\n",
    "    if df[column].dtype == 'object':\n",
    "        leading_whitespace_count += (df[column].str.startswith(' ').sum())\n",
    "        trailing_whitespace_count += (df[column].str.endswith(' ').sum())\n",
    "\n",
    "        having_both += ((df[column].str.startswith(' ')) & (df[column].str.endswith(' '))).sum()\n",
    "\n",
    "print(leading_whitespace_count, trailing_whitespace_count, having_both, \n",
    "      leading_whitespace_count + trailing_whitespace_count - having_both)"
   ]
  },
  {
   "cell_type": "code",
   "execution_count": 6,
   "metadata": {},
   "outputs": [
    {
     "name": "stdout",
     "output_type": "stream",
     "text": [
      "There are 3058016 values in your dataframe that have a leading or trailing whitespaces or both.\n"
     ]
    }
   ],
   "source": [
    "are_whitespaces_present(df)"
   ]
  },
  {
   "cell_type": "code",
   "execution_count": 7,
   "metadata": {},
   "outputs": [
    {
     "data": {
      "text/html": [
       "<div>\n",
       "<style scoped>\n",
       "    .dataframe tbody tr th:only-of-type {\n",
       "        vertical-align: middle;\n",
       "    }\n",
       "\n",
       "    .dataframe tbody tr th {\n",
       "        vertical-align: top;\n",
       "    }\n",
       "\n",
       "    .dataframe thead th {\n",
       "        text-align: right;\n",
       "    }\n",
       "</style>\n",
       "<table border=\"1\" class=\"dataframe\">\n",
       "  <thead>\n",
       "    <tr style=\"text-align: right;\">\n",
       "      <th></th>\n",
       "      <th>Category1</th>\n",
       "      <th>Category2</th>\n",
       "    </tr>\n",
       "  </thead>\n",
       "  <tbody>\n",
       "    <tr>\n",
       "      <th>0</th>\n",
       "      <td>Apple</td>\n",
       "      <td>Red</td>\n",
       "    </tr>\n",
       "    <tr>\n",
       "      <th>1</th>\n",
       "      <td>Banana</td>\n",
       "      <td>Yellow</td>\n",
       "    </tr>\n",
       "    <tr>\n",
       "      <th>2</th>\n",
       "      <td>Orange</td>\n",
       "      <td>Green</td>\n",
       "    </tr>\n",
       "    <tr>\n",
       "      <th>3</th>\n",
       "      <td>p</td>\n",
       "      <td>grey</td>\n",
       "    </tr>\n",
       "    <tr>\n",
       "      <th>4</th>\n",
       "      <td>q</td>\n",
       "      <td>hey</td>\n",
       "    </tr>\n",
       "  </tbody>\n",
       "</table>\n",
       "</div>"
      ],
      "text/plain": [
       "  Category1 Category2\n",
       "0     Apple       Red\n",
       "1    Banana    Yellow\n",
       "2    Orange     Green\n",
       "3         p      grey\n",
       "4         q       hey"
      ]
     },
     "execution_count": 7,
     "metadata": {},
     "output_type": "execute_result"
    }
   ],
   "source": [
    "for column in dfr.columns:\n",
    "    if dfr[column].dtype == 'object':\n",
    "        dfr[column] = dfr[column].str.strip()\n",
    "\n",
    "dfr"
   ]
  },
  {
   "cell_type": "code",
   "execution_count": 8,
   "metadata": {},
   "outputs": [
    {
     "name": "stdout",
     "output_type": "stream",
     "text": [
      "0 0 0 0\n"
     ]
    }
   ],
   "source": [
    "leading_whitespace_count = 0\n",
    "trailing_whitespace_count = 0\n",
    "having_both = 0\n",
    "\n",
    "for column in dfr.columns:\n",
    "    leading_whitespace_count += (dfr[column].str.startswith(' ').sum())\n",
    "    trailing_whitespace_count += (dfr[column].str.endswith(' ').sum())\n",
    "\n",
    "    having_both += ((dfr[column].str.startswith(' ')) & (dfr[column].str.endswith(' '))).sum()\n",
    "\n",
    "print(leading_whitespace_count, trailing_whitespace_count, having_both, \n",
    "      leading_whitespace_count + trailing_whitespace_count - having_both)"
   ]
  },
  {
   "cell_type": "code",
   "execution_count": 9,
   "metadata": {},
   "outputs": [
    {
     "name": "stdout",
     "output_type": "stream",
     "text": [
      "0 0 0 0\n"
     ]
    }
   ],
   "source": [
    "for column in df.columns:\n",
    "    if df[column].dtype == 'object':\n",
    "        df[column] = df[column].str.strip()\n",
    "\n",
    "\n",
    "\n",
    "leading_whitespace_count = 0\n",
    "trailing_whitespace_count = 0\n",
    "having_both = 0\n",
    "\n",
    "\n",
    "for column in df.columns:\n",
    "    if df[column].dtype == 'object':\n",
    "        leading_whitespace_count += (df[column].str.startswith(' ').sum())\n",
    "        trailing_whitespace_count += (df[column].str.endswith(' ').sum())\n",
    "\n",
    "        having_both += ((df[column].str.startswith(' ')) & (df[column].str.endswith(' '))).sum()\n",
    "\n",
    "print(leading_whitespace_count, trailing_whitespace_count, having_both, \n",
    "      leading_whitespace_count + trailing_whitespace_count - having_both)\n"
   ]
  },
  {
   "cell_type": "code",
   "execution_count": 10,
   "metadata": {},
   "outputs": [
    {
     "name": "stdout",
     "output_type": "stream",
     "text": [
      "There are 0 values in your dataframe that have a leading or trailing whitespaces or both.\n"
     ]
    }
   ],
   "source": [
    "are_whitespaces_present(df)"
   ]
  }
 ],
 "metadata": {
  "kernelspec": {
   "display_name": "Python 3",
   "language": "python",
   "name": "python3"
  },
  "language_info": {
   "codemirror_mode": {
    "name": "ipython",
    "version": 3
   },
   "file_extension": ".py",
   "mimetype": "text/x-python",
   "name": "python",
   "nbconvert_exporter": "python",
   "pygments_lexer": "ipython3",
   "version": "3.11.4"
  },
  "orig_nbformat": 4
 },
 "nbformat": 4,
 "nbformat_minor": 2
}
