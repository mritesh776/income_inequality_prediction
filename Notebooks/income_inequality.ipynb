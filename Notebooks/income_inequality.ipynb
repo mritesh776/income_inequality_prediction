{
 "cells": [
  {
   "cell_type": "markdown",
   "metadata": {},
   "source": [
    "<h1>Income Inequality prediction</h1>"
   ]
  },
  {
   "cell_type": "markdown",
   "metadata": {},
   "source": [
    "## Index\n",
    "1. [🧾Description](#Description)"
   ]
  },
  {
   "cell_type": "markdown",
   "metadata": {},
   "source": [
    "## Description\n",
    "The Problem of income being distributed in an **uneven** manner among a population is a growing problem in developing nations across the world.\n",
    "\n",
    "With the rapid rise of **AI** and **worker automation**, this problem could continue to grow if steps are not taken to address the issue.\n",
    "\n",
    "This project is an effort to create a **machine learning** model that predict whether an individual earns above or below a certain amount based on  **key population indicators** that effect the income level, which can help policymakers to better manage and avoid income inequality globally.\n",
    "\n",
    "The target feature is `income_above_limit` which is a **Binary-class** variable.\n",
    "\n",
    "The metric used for evaluation is `f1-score`.\n",
    "\n",
    "---"
   ]
  }
 ],
 "metadata": {
  "language_info": {
   "name": "python"
  },
  "orig_nbformat": 4
 },
 "nbformat": 4,
 "nbformat_minor": 2
}
